{
 "cells": [
  {
   "cell_type": "code",
   "execution_count": 2,
   "id": "14f3153d",
   "metadata": {},
   "outputs": [],
   "source": [
    "from ultralytics import YOLO\n",
    "\n",
    "weights_dir = \"runs/detect/train2/weights\"\n",
    "\n",
    "# Load a model\n",
    "model = YOLO(f\"{weights_dir}/best.pt\")\n"
   ]
  },
  {
   "cell_type": "code",
   "execution_count": null,
   "id": "ffbd3a14",
   "metadata": {},
   "outputs": [
    {
     "name": "stdout",
     "output_type": "stream",
     "text": [
      "Ultralytics 8.3.40 🚀 Python-3.11.11 torch-2.6.0+cu124 CPU (AMD Ryzen 9 7845HX with Radeon Graphics)\n",
      "YOLO11n summary (fused): 238 layers, 2,588,782 parameters, 0 gradients, 6.3 GFLOPs\n",
      "\n",
      "\u001b[34m\u001b[1mPyTorch:\u001b[0m starting from 'runs/detect/train2/weights/best.pt' with input shape (1, 3, 640, 640) BCHW and output shape(s) (1, 38, 8400) (5.3 MB)\n"
     ]
    },
    {
     "ename": "",
     "evalue": "",
     "output_type": "error",
     "traceback": [
      "\u001b[1;31mThe Kernel crashed while executing code in the current cell or a previous cell. \n",
      "\u001b[1;31mPlease review the code in the cell(s) to identify a possible cause of the failure. \n",
      "\u001b[1;31mClick <a href='https://aka.ms/vscodeJupyterKernelCrash'>here</a> for more info. \n",
      "\u001b[1;31mView Jupyter <a href='command:jupyter.viewOutput'>log</a> for further details."
     ]
    }
   ],
   "source": [
    "import onnx\n",
    "from onnxconverter_common import float16\n",
    "\n",
    "# Export the ONNX\n",
    "model.export(format=\"onnx\", data=\"datasets/data.yaml\")\n",
    "\n",
    "model_fp16 = float16.convert_float_to_float16(onnx.load(f\"{weights_dir}/best.onnx\"))\n",
    "onnx.save(model_fp16, f\"{weights_dir}/best.fp16.onnx\")"
   ]
  },
  {
   "cell_type": "markdown",
   "id": "1f73eac7",
   "metadata": {},
   "source": []
  }
 ],
 "metadata": {
  "kernelspec": {
   "display_name": ".venv",
   "language": "python",
   "name": "python3"
  },
  "language_info": {
   "codemirror_mode": {
    "name": "ipython",
    "version": 3
   },
   "file_extension": ".py",
   "mimetype": "text/x-python",
   "name": "python",
   "nbconvert_exporter": "python",
   "pygments_lexer": "ipython3",
   "version": "3.11.11"
  }
 },
 "nbformat": 4,
 "nbformat_minor": 5
}
